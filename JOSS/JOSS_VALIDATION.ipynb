{
 "cells": [
  {
   "cell_type": "code",
   "execution_count": 1,
   "metadata": {},
   "outputs": [],
   "source": [
    "import glob\n",
    "import xarray as xr\n",
    "import pandas as pd\n",
    "import json\n",
    "\n",
    "import warnings\n",
    "warnings.filterwarnings(\"ignore\")"
   ]
  },
  {
   "cell_type": "code",
   "execution_count": 2,
   "metadata": {},
   "outputs": [],
   "source": [
    "# !pip install jinja2\n",
    "# !python -m pip install \"dask[diagnostics]\"\n",
    "# !pip install netcdf4\n",
    "# !pip install matplotlib\n",
    "# !python -m pip install scikit-learn"
   ]
  },
  {
   "cell_type": "code",
   "execution_count": 3,
   "metadata": {},
   "outputs": [],
   "source": [
    "# Get the list of processed files\n",
    "input_files = sorted(glob.glob('input/data/*.trf'))\n",
    "output_files = sorted(glob.glob('output/netCDF/*.nc'))"
   ]
  },
  {
   "cell_type": "code",
   "execution_count": 4,
   "metadata": {},
   "outputs": [
    {
     "name": "stdout",
     "output_type": "stream",
     "text": [
      "Number of input files: 2037\n",
      "Number of output files: 1660\n"
     ]
    }
   ],
   "source": [
    "print('Number of input files:', len(input_files))\n",
    "print('Number of output files:', len(output_files))"
   ]
  },
  {
   "cell_type": "code",
   "execution_count": 5,
   "metadata": {},
   "outputs": [
    {
     "name": "stdout",
     "output_type": "stream",
     "text": [
      "First input file: 2020-03-03 13:19:00 Last input file: 2024-09-16 20:36:00\n",
      "First output file: 2020-03-03 00:00:00 Last output file: 2024-09-17 00:00:00\n"
     ]
    }
   ],
   "source": [
    "input_timestamp_pattern = 'input/data/RD-%Y%m%d-%H%M%S.trf'\n",
    "output_timestamp_pattern = 'output/netCDF/att01rd80CA.b1.%Y%m%d.%H%M%S.nc'\n",
    "\n",
    "# First input file stamp\n",
    "first_input_stamp = pd.to_datetime(input_files[0], format=input_timestamp_pattern)\n",
    "last_input_stamp = pd.to_datetime(input_files[-1], format=input_timestamp_pattern)\n",
    "print('First input file:', first_input_stamp, 'Last input file:', last_input_stamp)\n",
    "\n",
    "# First output file stamp\n",
    "first_output_stamp = pd.to_datetime(output_files[0], format=output_timestamp_pattern)\n",
    "last_output_stamp = pd.to_datetime(output_files[-1], format=output_timestamp_pattern)\n",
    "print('First output file:', first_output_stamp, 'Last output file:', last_output_stamp)"
   ]
  },
  {
   "cell_type": "markdown",
   "metadata": {},
   "source": [
    "#### 1 - Check if algorithm create correct number of netCF files"
   ]
  },
  {
   "cell_type": "code",
   "execution_count": 6,
   "metadata": {},
   "outputs": [
    {
     "name": "stdout",
     "output_type": "stream",
     "text": [
      "OK - All output files are present, with number: 1660\n"
     ]
    }
   ],
   "source": [
    "# Check if outputfiles are missing from the list\n",
    "full_output_timestamps = pd.date_range(start=first_output_stamp, end=last_output_stamp, freq='1D')\n",
    "if len(output_files) != len(full_output_timestamps):\n",
    "    print('Error - Missing output files:', len(full_output_timestamps) - len(output_files))\n",
    "    missing_output_files = full_output_timestamps[~full_output_timestamps.isin(pd.to_datetime(output_files, format=output_timestamp_pattern))]\n",
    "    print('Error - Missing output files:', missing_output_files)\n",
    "else:\n",
    "    print('OK - All output files are present, with number:', len(output_files))"
   ]
  },
  {
   "cell_type": "markdown",
   "metadata": {},
   "source": [
    "##### 2 - Check if algorithm create correct time series into netCF files"
   ]
  },
  {
   "cell_type": "code",
   "execution_count": 7,
   "metadata": {},
   "outputs": [],
   "source": [
    "# Read all the output files\n",
    "ouput_ds = xr.open_mfdataset(output_files, combine='nested', concat_dim='time')"
   ]
  },
  {
   "cell_type": "code",
   "execution_count": 8,
   "metadata": {},
   "outputs": [
    {
     "name": "stdout",
     "output_type": "stream",
     "text": [
      "OK - First output file time stamp is correct\n",
      "OK - Last output file time stamp is correct\n",
      "OK - All output file time stamps are correct\n"
     ]
    }
   ],
   "source": [
    "# Check if first time stamp is correct\n",
    "if first_output_stamp.date() == pd.to_datetime(ouput_ds.time[0].values).date():\n",
    "    print('OK - First output file time stamp is correct')\n",
    "else:\n",
    "    print('Error - First output file time stamp is incorrect')\n",
    "# Check if last time stamp is correct\n",
    "if last_output_stamp.date() == pd.to_datetime(ouput_ds.time[-1].values).date():\n",
    "    print('OK - Last output file time stamp is correct')\n",
    "else:\n",
    "    print('Error - Last output file time stamp is incorrect')\n",
    "# Check if the number of time stamps is correct\n",
    "if len(full_output_timestamps) == len(ouput_ds.time.resample(time='1D').count()):\n",
    "    print('OK - All output file time stamps are correct')\n",
    "else:\n",
    "    print('Error - Some output file time stamps are incorrect')"
   ]
  },
  {
   "cell_type": "markdown",
   "metadata": {},
   "source": [
    "##### 3 - Check if algorithm create correct time series between input and output netCF files"
   ]
  },
  {
   "cell_type": "code",
   "execution_count": 9,
   "metadata": {},
   "outputs": [],
   "source": [
    "from utils.disdrometer_utils import *\n",
    "\n",
    "with open('input/support/variables_info.json', \"r\") as xfile:\n",
    "    variables_info_file = xfile.read()\n",
    "variables_info = json.loads(variables_info_file)\n",
    "columns = variables_info['Columns']\n",
    "\n",
    "# Open input files\n",
    "input_df = read_files_rd80(input_files, columns=columns)"
   ]
  },
  {
   "cell_type": "code",
   "execution_count": 10,
   "metadata": {},
   "outputs": [
    {
     "name": "stdout",
     "output_type": "stream",
     "text": [
      "First timestamp in input_df: 2020-03-03 13:00:00\n",
      "First timestamp in output_ds: 2020-03-03 00:00:00\n",
      "Last timestamp in input_df: 2024-09-17 20:00:00\n",
      "Last timestamp in output_ds: 2024-09-17 23:59:00\n",
      "--------------------------------------------------\n",
      "Number of timestamp in input_df: 33684\n",
      "Number of timestamps in output_ds: 2390400\n",
      "Number of missing timestamps: 2356716\n",
      "--------------------------------------------------\n",
      "Percentage of missing timestamps: 98.59086345381526 %\n"
     ]
    }
   ],
   "source": [
    "input_unique_timestamp = input_df.index.strftime('%Y-%m-%d %H:00:00').unique()\n",
    "input_unique_timestamp = pd.to_datetime(input_unique_timestamp)\n",
    "\n",
    "print('First timestamp in input_df:', input_unique_timestamp[0])\n",
    "print('First timestamp in output_ds:', pd.to_datetime(ouput_ds.time[0].values))\n",
    "print('Last timestamp in input_df:', input_unique_timestamp[-1])\n",
    "print('Last timestamp in output_ds:', pd.to_datetime(ouput_ds.time[-1].values))\n",
    "print('-' * 50)\n",
    "print('Number of timestamp in input_df:', len(input_unique_timestamp))\n",
    "print('Number of timestamps in output_ds:', len(ouput_ds.time))\n",
    "print('Number of missing timestamps:', len(ouput_ds.time) - len(input_unique_timestamp))\n",
    "print('-' * 50)\n",
    "print('Percentage of missing timestamps:', (len(ouput_ds.time) - len(input_unique_timestamp)) / len(ouput_ds.time) * 100, '%')"
   ]
  },
  {
   "cell_type": "code",
   "execution_count": 11,
   "metadata": {},
   "outputs": [],
   "source": [
    "valid_df = pd.DataFrame()\n",
    "# Groupby interval of 1 hour\n",
    "input_1hour = input_df.groupby(pd.Grouper(freq='1H'))\n",
    "for tstamp, group in input_1hour:\n",
    "    time_df = pd.DataFrame({'timestamp': [tstamp]})\n",
    "    timestmps = group.index\n",
    "    sel_ds = ouput_ds.sel(time=tstamp.strftime('%Y-%m-%d %H')).compute() # Select the dataset for the timestamp\n",
    "    time_df['trf_dtype'] = group['RI'].dtype\n",
    "    time_df['nc_dtype'] = sel_ds['rain_rate'].dtype\n",
    "    time_df['trf_size'] = len(group) # Number of observations\n",
    "    time_df['nc_size'] = len(sel_ds['rain_rate']) # Number of observations in the dataset\n",
    "    # Get variables\n",
    "    rr_df = group['RI']\n",
    "    rr_ds = sel_ds['rain_rate'].to_series()\n",
    "    # count nan\n",
    "    time_df['trf_ri_nan_count'] = rr_df.isna().sum()\n",
    "    time_df['nc_ri_nan_count'] = rr_ds.isna().sum()\n",
    "    # Remove nan to calculate statistics\n",
    "    rr_df = rr_df.dropna()\n",
    "    rr_ds = rr_ds.dropna()\n",
    "    # min and max\n",
    "    time_df['trf_ri_min'] = rr_df.min()\n",
    "    time_df['nc_ri_min'] = rr_ds.min()\n",
    "    time_df['ri_mae'] = np.mean(np.abs(rr_df - rr_ds))\n",
    "    time_df['ri_max_abs_error'] = np.max(np.abs(rr_df - rr_ds))\n",
    "    time_df['ri_pearson_corr'] = rr_df.corr(rr_ds)\n",
    "    # Concatenate the dataframes\n",
    "    valid_df = pd.concat([valid_df, time_df])"
   ]
  },
  {
   "cell_type": "code",
   "execution_count": 12,
   "metadata": {},
   "outputs": [],
   "source": [
    "valid_df.to_csv('valid_df.csv', index=False)"
   ]
  },
  {
   "cell_type": "code",
   "execution_count": 13,
   "metadata": {},
   "outputs": [
    {
     "data": {
      "text/html": [
       "<div>\n",
       "<style scoped>\n",
       "    .dataframe tbody tr th:only-of-type {\n",
       "        vertical-align: middle;\n",
       "    }\n",
       "\n",
       "    .dataframe tbody tr th {\n",
       "        vertical-align: top;\n",
       "    }\n",
       "\n",
       "    .dataframe thead th {\n",
       "        text-align: right;\n",
       "    }\n",
       "</style>\n",
       "<table border=\"1\" class=\"dataframe\">\n",
       "  <thead>\n",
       "    <tr style=\"text-align: right;\">\n",
       "      <th></th>\n",
       "      <th>timestamp</th>\n",
       "      <th>trf_dtype</th>\n",
       "      <th>nc_dtype</th>\n",
       "      <th>trf_size</th>\n",
       "      <th>nc_size</th>\n",
       "      <th>trf_ri_nan_count</th>\n",
       "      <th>nc_ri_nan_count</th>\n",
       "      <th>trf_ri_min</th>\n",
       "      <th>nc_ri_min</th>\n",
       "      <th>ri_mae</th>\n",
       "      <th>ri_max_abs_error</th>\n",
       "      <th>ri_pearson_corr</th>\n",
       "    </tr>\n",
       "  </thead>\n",
       "  <tbody>\n",
       "    <tr>\n",
       "      <th>0</th>\n",
       "      <td>2020-03-03 13:00:00</td>\n",
       "      <td>float64</td>\n",
       "      <td>float32</td>\n",
       "      <td>41</td>\n",
       "      <td>60</td>\n",
       "      <td>0</td>\n",
       "      <td>19</td>\n",
       "      <td>0.0</td>\n",
       "      <td>0.0</td>\n",
       "      <td>6.929086e-07</td>\n",
       "      <td>0.000011</td>\n",
       "      <td>1.0</td>\n",
       "    </tr>\n",
       "    <tr>\n",
       "      <th>0</th>\n",
       "      <td>2020-03-03 14:00:00</td>\n",
       "      <td>float64</td>\n",
       "      <td>float32</td>\n",
       "      <td>60</td>\n",
       "      <td>60</td>\n",
       "      <td>0</td>\n",
       "      <td>0</td>\n",
       "      <td>0.0</td>\n",
       "      <td>0.0</td>\n",
       "      <td>0.000000e+00</td>\n",
       "      <td>0.000000</td>\n",
       "      <td>NaN</td>\n",
       "    </tr>\n",
       "    <tr>\n",
       "      <th>0</th>\n",
       "      <td>2020-03-03 15:00:00</td>\n",
       "      <td>float64</td>\n",
       "      <td>float32</td>\n",
       "      <td>60</td>\n",
       "      <td>60</td>\n",
       "      <td>0</td>\n",
       "      <td>0</td>\n",
       "      <td>0.0</td>\n",
       "      <td>0.0</td>\n",
       "      <td>0.000000e+00</td>\n",
       "      <td>0.000000</td>\n",
       "      <td>NaN</td>\n",
       "    </tr>\n",
       "    <tr>\n",
       "      <th>0</th>\n",
       "      <td>2020-03-03 16:00:00</td>\n",
       "      <td>float64</td>\n",
       "      <td>float32</td>\n",
       "      <td>60</td>\n",
       "      <td>60</td>\n",
       "      <td>0</td>\n",
       "      <td>0</td>\n",
       "      <td>0.0</td>\n",
       "      <td>0.0</td>\n",
       "      <td>0.000000e+00</td>\n",
       "      <td>0.000000</td>\n",
       "      <td>NaN</td>\n",
       "    </tr>\n",
       "    <tr>\n",
       "      <th>0</th>\n",
       "      <td>2020-03-03 17:00:00</td>\n",
       "      <td>float64</td>\n",
       "      <td>float32</td>\n",
       "      <td>60</td>\n",
       "      <td>60</td>\n",
       "      <td>0</td>\n",
       "      <td>0</td>\n",
       "      <td>0.0</td>\n",
       "      <td>0.0</td>\n",
       "      <td>0.000000e+00</td>\n",
       "      <td>0.000000</td>\n",
       "      <td>NaN</td>\n",
       "    </tr>\n",
       "    <tr>\n",
       "      <th>...</th>\n",
       "      <td>...</td>\n",
       "      <td>...</td>\n",
       "      <td>...</td>\n",
       "      <td>...</td>\n",
       "      <td>...</td>\n",
       "      <td>...</td>\n",
       "      <td>...</td>\n",
       "      <td>...</td>\n",
       "      <td>...</td>\n",
       "      <td>...</td>\n",
       "      <td>...</td>\n",
       "      <td>...</td>\n",
       "    </tr>\n",
       "    <tr>\n",
       "      <th>0</th>\n",
       "      <td>2024-09-17 16:00:00</td>\n",
       "      <td>float64</td>\n",
       "      <td>float32</td>\n",
       "      <td>60</td>\n",
       "      <td>60</td>\n",
       "      <td>0</td>\n",
       "      <td>0</td>\n",
       "      <td>0.0</td>\n",
       "      <td>0.0</td>\n",
       "      <td>7.944257e-07</td>\n",
       "      <td>0.000048</td>\n",
       "      <td>1.0</td>\n",
       "    </tr>\n",
       "    <tr>\n",
       "      <th>0</th>\n",
       "      <td>2024-09-17 17:00:00</td>\n",
       "      <td>float64</td>\n",
       "      <td>float32</td>\n",
       "      <td>60</td>\n",
       "      <td>60</td>\n",
       "      <td>0</td>\n",
       "      <td>0</td>\n",
       "      <td>0.0</td>\n",
       "      <td>0.0</td>\n",
       "      <td>0.000000e+00</td>\n",
       "      <td>0.000000</td>\n",
       "      <td>NaN</td>\n",
       "    </tr>\n",
       "    <tr>\n",
       "      <th>0</th>\n",
       "      <td>2024-09-17 18:00:00</td>\n",
       "      <td>float64</td>\n",
       "      <td>float32</td>\n",
       "      <td>60</td>\n",
       "      <td>60</td>\n",
       "      <td>0</td>\n",
       "      <td>0</td>\n",
       "      <td>0.0</td>\n",
       "      <td>0.0</td>\n",
       "      <td>3.947683e-07</td>\n",
       "      <td>0.000012</td>\n",
       "      <td>1.0</td>\n",
       "    </tr>\n",
       "    <tr>\n",
       "      <th>0</th>\n",
       "      <td>2024-09-17 19:00:00</td>\n",
       "      <td>float64</td>\n",
       "      <td>float32</td>\n",
       "      <td>60</td>\n",
       "      <td>60</td>\n",
       "      <td>0</td>\n",
       "      <td>0</td>\n",
       "      <td>0.0</td>\n",
       "      <td>0.0</td>\n",
       "      <td>5.923651e-07</td>\n",
       "      <td>0.000036</td>\n",
       "      <td>1.0</td>\n",
       "    </tr>\n",
       "    <tr>\n",
       "      <th>0</th>\n",
       "      <td>2024-09-17 20:00:00</td>\n",
       "      <td>float64</td>\n",
       "      <td>float32</td>\n",
       "      <td>36</td>\n",
       "      <td>60</td>\n",
       "      <td>0</td>\n",
       "      <td>24</td>\n",
       "      <td>0.0</td>\n",
       "      <td>0.0</td>\n",
       "      <td>0.000000e+00</td>\n",
       "      <td>0.000000</td>\n",
       "      <td>NaN</td>\n",
       "    </tr>\n",
       "  </tbody>\n",
       "</table>\n",
       "<p>39824 rows × 12 columns</p>\n",
       "</div>"
      ],
      "text/plain": [
       "             timestamp trf_dtype nc_dtype  trf_size  nc_size  \\\n",
       "0  2020-03-03 13:00:00   float64  float32        41       60   \n",
       "0  2020-03-03 14:00:00   float64  float32        60       60   \n",
       "0  2020-03-03 15:00:00   float64  float32        60       60   \n",
       "0  2020-03-03 16:00:00   float64  float32        60       60   \n",
       "0  2020-03-03 17:00:00   float64  float32        60       60   \n",
       "..                 ...       ...      ...       ...      ...   \n",
       "0  2024-09-17 16:00:00   float64  float32        60       60   \n",
       "0  2024-09-17 17:00:00   float64  float32        60       60   \n",
       "0  2024-09-17 18:00:00   float64  float32        60       60   \n",
       "0  2024-09-17 19:00:00   float64  float32        60       60   \n",
       "0  2024-09-17 20:00:00   float64  float32        36       60   \n",
       "\n",
       "    trf_ri_nan_count  nc_ri_nan_count  trf_ri_min  nc_ri_min        ri_mae  \\\n",
       "0                  0               19         0.0        0.0  6.929086e-07   \n",
       "0                  0                0         0.0        0.0  0.000000e+00   \n",
       "0                  0                0         0.0        0.0  0.000000e+00   \n",
       "0                  0                0         0.0        0.0  0.000000e+00   \n",
       "0                  0                0         0.0        0.0  0.000000e+00   \n",
       "..               ...              ...         ...        ...           ...   \n",
       "0                  0                0         0.0        0.0  7.944257e-07   \n",
       "0                  0                0         0.0        0.0  0.000000e+00   \n",
       "0                  0                0         0.0        0.0  3.947683e-07   \n",
       "0                  0                0         0.0        0.0  5.923651e-07   \n",
       "0                  0               24         0.0        0.0  0.000000e+00   \n",
       "\n",
       "    ri_max_abs_error  ri_pearson_corr  \n",
       "0           0.000011              1.0  \n",
       "0           0.000000              NaN  \n",
       "0           0.000000              NaN  \n",
       "0           0.000000              NaN  \n",
       "0           0.000000              NaN  \n",
       "..               ...              ...  \n",
       "0           0.000048              1.0  \n",
       "0           0.000000              NaN  \n",
       "0           0.000012              1.0  \n",
       "0           0.000036              1.0  \n",
       "0           0.000000              NaN  \n",
       "\n",
       "[39824 rows x 12 columns]"
      ]
     },
     "execution_count": 13,
     "metadata": {},
     "output_type": "execute_result"
    }
   ],
   "source": [
    "valid_df"
   ]
  }
 ],
 "metadata": {
  "kernelspec": {
   "display_name": "Python 3",
   "language": "python",
   "name": "python3"
  },
  "language_info": {
   "codemirror_mode": {
    "name": "ipython",
    "version": 3
   },
   "file_extension": ".py",
   "mimetype": "text/x-python",
   "name": "python",
   "nbconvert_exporter": "python",
   "pygments_lexer": "ipython3",
   "version": "3.11.9"
  }
 },
 "nbformat": 4,
 "nbformat_minor": 2
}
